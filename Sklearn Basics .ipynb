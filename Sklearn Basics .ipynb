{
 "cells": [
  {
   "cell_type": "markdown",
   "metadata": {},
   "source": [
    "# Scikit-learn Basics"
   ]
  },
  {
   "cell_type": "markdown",
   "metadata": {},
   "source": [
    "### Logistic Regression"
   ]
  },
  {
   "cell_type": "code",
   "execution_count": 55,
   "metadata": {},
   "outputs": [],
   "source": [
    "from sklearn import datasets\n",
    "from sklearn import metrics\n",
    "from sklearn.linear_model import LogisticRegression"
   ]
  },
  {
   "cell_type": "code",
   "execution_count": 56,
   "metadata": {},
   "outputs": [],
   "source": [
    "dataset = datasets.load_iris()"
   ]
  },
  {
   "cell_type": "code",
   "execution_count": 57,
   "metadata": {},
   "outputs": [
    {
     "name": "stdout",
     "output_type": "stream",
     "text": [
      "LogisticRegression(C=1.0, class_weight=None, dual=False, fit_intercept=True,\n",
      "          intercept_scaling=1, max_iter=100, multi_class='ovr', n_jobs=1,\n",
      "          penalty='l2', random_state=None, solver='liblinear', tol=0.0001,\n",
      "          verbose=0, warm_start=False)\n"
     ]
    }
   ],
   "source": [
    "model = LogisticRegression()\n",
    "model.fit(dataset.data, dataset.target)\n",
    "print(model)"
   ]
  },
  {
   "cell_type": "code",
   "execution_count": 58,
   "metadata": {},
   "outputs": [],
   "source": [
    "expected = dataset.target\n",
    "predicted = model.predict(dataset.data)"
   ]
  },
  {
   "cell_type": "code",
   "execution_count": 30,
   "metadata": {},
   "outputs": [
    {
     "name": "stdout",
     "output_type": "stream",
     "text": [
      "             precision    recall  f1-score   support\n",
      "\n",
      "          0       1.00      1.00      1.00        50\n",
      "          1       0.98      0.90      0.94        50\n",
      "          2       0.91      0.98      0.94        50\n",
      "\n",
      "avg / total       0.96      0.96      0.96       150\n",
      "\n",
      "[[50  0  0]\n",
      " [ 0 45  5]\n",
      " [ 0  1 49]]\n"
     ]
    }
   ],
   "source": [
    "print(metrics.classification_report(expected, predicted))\n",
    "print(metrics.confusion_matrix(expected, predicted))"
   ]
  },
  {
   "cell_type": "markdown",
   "metadata": {},
   "source": [
    "### Naive Bayes"
   ]
  },
  {
   "cell_type": "code",
   "execution_count": 59,
   "metadata": {},
   "outputs": [],
   "source": [
    "from sklearn.naive_bayes import GaussianNB"
   ]
  },
  {
   "cell_type": "code",
   "execution_count": 102,
   "metadata": {},
   "outputs": [],
   "source": [
    "wine = datasets.load_wine()"
   ]
  },
  {
   "cell_type": "code",
   "execution_count": 103,
   "metadata": {},
   "outputs": [
    {
     "name": "stdout",
     "output_type": "stream",
     "text": [
      "GaussianNB(priors=None)\n"
     ]
    }
   ],
   "source": [
    "model = GaussianNB()\n",
    "model.fit(wine.data, wine.target)\n",
    "print(model)"
   ]
  },
  {
   "cell_type": "code",
   "execution_count": 104,
   "metadata": {},
   "outputs": [],
   "source": [
    "expected = wine.target\n",
    "predicted = model.predict(wine.data)"
   ]
  },
  {
   "cell_type": "code",
   "execution_count": 105,
   "metadata": {},
   "outputs": [
    {
     "name": "stdout",
     "output_type": "stream",
     "text": [
      "             precision    recall  f1-score   support\n",
      "\n",
      "          0       1.00      0.98      0.99        59\n",
      "          1       0.99      0.99      0.99        71\n",
      "          2       0.98      1.00      0.99        48\n",
      "\n",
      "avg / total       0.99      0.99      0.99       178\n",
      "\n",
      "[[58  1  0]\n",
      " [ 0 70  1]\n",
      " [ 0  0 48]]\n"
     ]
    }
   ],
   "source": [
    "print(metrics.classification_report(expectedA, predictedA))\n",
    "print(metrics.confusion_matrix(expectedA, predictedA))"
   ]
  },
  {
   "cell_type": "markdown",
   "metadata": {},
   "source": [
    "### k-Nearest Neighbour"
   ]
  },
  {
   "cell_type": "code",
   "execution_count": 65,
   "metadata": {},
   "outputs": [],
   "source": [
    "from sklearn.neighbors import KNeighborsClassifier"
   ]
  },
  {
   "cell_type": "code",
   "execution_count": 98,
   "metadata": {},
   "outputs": [],
   "source": [
    "cancer = datasets.load_breast_cancer()"
   ]
  },
  {
   "cell_type": "code",
   "execution_count": 99,
   "metadata": {},
   "outputs": [
    {
     "data": {
      "text/plain": [
       "KNeighborsClassifier(algorithm='auto', leaf_size=30, metric='minkowski',\n",
       "           metric_params=None, n_jobs=1, n_neighbors=5, p=2,\n",
       "           weights='uniform')"
      ]
     },
     "execution_count": 99,
     "metadata": {},
     "output_type": "execute_result"
    }
   ],
   "source": [
    "model = KNeighborsClassifier()\n",
    "model.fit(cancer.data, cancer.target)"
   ]
  },
  {
   "cell_type": "code",
   "execution_count": 100,
   "metadata": {},
   "outputs": [],
   "source": [
    "expected = cancer.target\n",
    "predicted = model.predict(cancer.data)\n"
   ]
  },
  {
   "cell_type": "code",
   "execution_count": 101,
   "metadata": {},
   "outputs": [
    {
     "name": "stdout",
     "output_type": "stream",
     "text": [
      "             precision    recall  f1-score   support\n",
      "\n",
      "          0       0.95      0.90      0.93       212\n",
      "          1       0.94      0.97      0.96       357\n",
      "\n",
      "avg / total       0.95      0.95      0.95       569\n",
      "\n",
      "[[191  21]\n",
      " [  9 348]]\n"
     ]
    }
   ],
   "source": [
    "print(metrics.classification_report(expected, predicted))\n",
    "print(metrics.confusion_matrix(expected, predicted))"
   ]
  },
  {
   "cell_type": "markdown",
   "metadata": {},
   "source": [
    "### Decision Trees (CART)"
   ]
  },
  {
   "cell_type": "code",
   "execution_count": 85,
   "metadata": {},
   "outputs": [],
   "source": [
    "from sklearn.tree import DecisionTreeClassifier"
   ]
  },
  {
   "cell_type": "code",
   "execution_count": 88,
   "metadata": {},
   "outputs": [],
   "source": [
    "digit = datasets.load_digits()"
   ]
  },
  {
   "cell_type": "code",
   "execution_count": 89,
   "metadata": {},
   "outputs": [
    {
     "data": {
      "text/plain": [
       "DecisionTreeClassifier(class_weight=None, criterion='gini', max_depth=None,\n",
       "            max_features=None, max_leaf_nodes=None,\n",
       "            min_impurity_decrease=0.0, min_impurity_split=None,\n",
       "            min_samples_leaf=1, min_samples_split=2,\n",
       "            min_weight_fraction_leaf=0.0, presort=False, random_state=None,\n",
       "            splitter='best')"
      ]
     },
     "execution_count": 89,
     "metadata": {},
     "output_type": "execute_result"
    }
   ],
   "source": [
    "model = DecisionTreeClassifier()\n",
    "model.fit(digit.data, digit.target)"
   ]
  },
  {
   "cell_type": "code",
   "execution_count": 94,
   "metadata": {},
   "outputs": [],
   "source": [
    "expected = digit.target\n",
    "predicted = model.predict(digit.data)"
   ]
  },
  {
   "cell_type": "code",
   "execution_count": 95,
   "metadata": {},
   "outputs": [
    {
     "name": "stdout",
     "output_type": "stream",
     "text": [
      "             precision    recall  f1-score   support\n",
      "\n",
      "          0       1.00      1.00      1.00       178\n",
      "          1       1.00      1.00      1.00       182\n",
      "          2       1.00      1.00      1.00       177\n",
      "          3       1.00      1.00      1.00       183\n",
      "          4       1.00      1.00      1.00       181\n",
      "          5       1.00      1.00      1.00       182\n",
      "          6       1.00      1.00      1.00       181\n",
      "          7       1.00      1.00      1.00       179\n",
      "          8       1.00      1.00      1.00       174\n",
      "          9       1.00      1.00      1.00       180\n",
      "\n",
      "avg / total       1.00      1.00      1.00      1797\n",
      "\n",
      "[[178   0   0   0   0   0   0   0   0   0]\n",
      " [  0 182   0   0   0   0   0   0   0   0]\n",
      " [  0   0 177   0   0   0   0   0   0   0]\n",
      " [  0   0   0 183   0   0   0   0   0   0]\n",
      " [  0   0   0   0 181   0   0   0   0   0]\n",
      " [  0   0   0   0   0 182   0   0   0   0]\n",
      " [  0   0   0   0   0   0 181   0   0   0]\n",
      " [  0   0   0   0   0   0   0 179   0   0]\n",
      " [  0   0   0   0   0   0   0   0 174   0]\n",
      " [  0   0   0   0   0   0   0   0   0 180]]\n"
     ]
    }
   ],
   "source": [
    "print(metrics.classification_report(expected, predicted))\n",
    "print(metrics.confusion_matrix(expected, predicted))"
   ]
  },
  {
   "cell_type": "markdown",
   "metadata": {},
   "source": [
    "### Support Vector Machine"
   ]
  },
  {
   "cell_type": "code",
   "execution_count": 106,
   "metadata": {},
   "outputs": [],
   "source": [
    "from sklearn.svm import SVC"
   ]
  },
  {
   "cell_type": "code",
   "execution_count": 107,
   "metadata": {},
   "outputs": [],
   "source": [
    "diabetes = datasets.load_diabetes()"
   ]
  },
  {
   "cell_type": "code",
   "execution_count": 108,
   "metadata": {},
   "outputs": [
    {
     "data": {
      "text/plain": [
       "SVC(C=1.0, cache_size=200, class_weight=None, coef0=0.0,\n",
       "  decision_function_shape='ovr', degree=3, gamma='auto', kernel='rbf',\n",
       "  max_iter=-1, probability=False, random_state=None, shrinking=True,\n",
       "  tol=0.001, verbose=False)"
      ]
     },
     "execution_count": 108,
     "metadata": {},
     "output_type": "execute_result"
    }
   ],
   "source": [
    "model = SVC()\n",
    "model.fit(diabetes.data, diabetes.target)"
   ]
  },
  {
   "cell_type": "code",
   "execution_count": 109,
   "metadata": {},
   "outputs": [],
   "source": [
    "expected = diabetes.target\n",
    "predicted = model.predict(diabetes.data)"
   ]
  },
  {
   "cell_type": "code",
   "execution_count": 110,
   "metadata": {},
   "outputs": [
    {
     "name": "stdout",
     "output_type": "stream",
     "text": [
      "             precision    recall  f1-score   support\n",
      "\n",
      "       25.0       0.00      0.00      0.00         1\n",
      "       31.0       0.00      0.00      0.00         1\n",
      "       37.0       0.00      0.00      0.00         1\n",
      "       39.0       0.00      0.00      0.00         2\n",
      "       40.0       0.00      0.00      0.00         1\n",
      "       42.0       0.00      0.00      0.00         3\n",
      "       43.0       0.00      0.00      0.00         1\n",
      "       44.0       0.00      0.00      0.00         1\n",
      "       45.0       0.00      0.00      0.00         1\n",
      "       47.0       0.00      0.00      0.00         2\n",
      "       48.0       0.00      0.00      0.00         3\n",
      "       49.0       0.00      0.00      0.00         3\n",
      "       50.0       0.00      0.00      0.00         1\n",
      "       51.0       0.00      0.00      0.00         3\n",
      "       52.0       0.00      0.00      0.00         4\n",
      "       53.0       0.00      0.00      0.00         4\n",
      "       54.0       0.00      0.00      0.00         1\n",
      "       55.0       0.00      0.00      0.00         4\n",
      "       57.0       0.00      0.00      0.00         1\n",
      "       58.0       0.00      0.00      0.00         1\n",
      "       59.0       0.00      0.00      0.00         4\n",
      "       60.0       0.00      0.00      0.00         3\n",
      "       61.0       0.00      0.00      0.00         2\n",
      "       63.0       0.00      0.00      0.00         4\n",
      "       64.0       0.00      0.00      0.00         3\n",
      "       65.0       0.00      0.00      0.00         4\n",
      "       66.0       0.00      0.00      0.00         2\n",
      "       67.0       0.00      0.00      0.00         2\n",
      "       68.0       0.00      0.00      0.00         3\n",
      "       69.0       0.00      0.00      0.00         3\n",
      "       70.0       0.00      0.00      0.00         2\n",
      "       71.0       0.00      0.00      0.00         5\n",
      "       72.0       0.04      1.00      0.07         6\n",
      "       73.0       0.00      0.00      0.00         1\n",
      "       74.0       0.00      0.00      0.00         2\n",
      "       75.0       0.00      0.00      0.00         2\n",
      "       77.0       0.00      0.00      0.00         4\n",
      "       78.0       0.00      0.00      0.00         3\n",
      "       79.0       0.00      0.00      0.00         1\n",
      "       80.0       0.00      0.00      0.00         1\n",
      "       81.0       0.00      0.00      0.00         2\n",
      "       83.0       0.00      0.00      0.00         3\n",
      "       84.0       0.00      0.00      0.00         4\n",
      "       85.0       0.00      0.00      0.00         4\n",
      "       86.0       0.00      0.00      0.00         1\n",
      "       87.0       0.00      0.00      0.00         2\n",
      "       88.0       0.00      0.00      0.00         4\n",
      "       89.0       0.00      0.00      0.00         2\n",
      "       90.0       0.00      0.00      0.00         5\n",
      "       91.0       0.00      0.00      0.00         4\n",
      "       92.0       0.00      0.00      0.00         2\n",
      "       93.0       0.00      0.00      0.00         2\n",
      "       94.0       0.00      0.00      0.00         3\n",
      "       95.0       0.00      0.00      0.00         2\n",
      "       96.0       0.00      0.00      0.00         4\n",
      "       97.0       0.00      0.00      0.00         4\n",
      "       98.0       0.00      0.00      0.00         1\n",
      "       99.0       0.00      0.00      0.00         2\n",
      "      100.0       0.00      0.00      0.00         1\n",
      "      101.0       0.00      0.00      0.00         3\n",
      "      102.0       0.00      0.00      0.00         3\n",
      "      103.0       0.00      0.00      0.00         2\n",
      "      104.0       0.00      0.00      0.00         4\n",
      "      107.0       0.00      0.00      0.00         2\n",
      "      108.0       0.00      0.00      0.00         1\n",
      "      109.0       0.00      0.00      0.00         4\n",
      "      110.0       0.00      0.00      0.00         2\n",
      "      111.0       0.00      0.00      0.00         3\n",
      "      113.0       0.00      0.00      0.00         3\n",
      "      114.0       0.00      0.00      0.00         1\n",
      "      115.0       0.00      0.00      0.00         2\n",
      "      116.0       0.00      0.00      0.00         2\n",
      "      118.0       0.00      0.00      0.00         3\n",
      "      120.0       0.00      0.00      0.00         1\n",
      "      121.0       0.00      0.00      0.00         2\n",
      "      122.0       0.00      0.00      0.00         2\n",
      "      123.0       0.00      0.00      0.00         1\n",
      "      124.0       0.00      0.00      0.00         2\n",
      "      125.0       0.00      0.00      0.00         1\n",
      "      126.0       0.00      0.00      0.00         1\n",
      "      127.0       0.00      0.00      0.00         2\n",
      "      128.0       0.00      0.00      0.00         4\n",
      "      129.0       0.00      0.00      0.00         3\n",
      "      131.0       0.00      0.00      0.00         4\n",
      "      132.0       0.00      0.00      0.00         2\n",
      "      134.0       0.00      0.00      0.00         2\n",
      "      135.0       0.00      0.00      0.00         2\n",
      "      136.0       0.00      0.00      0.00         1\n",
      "      137.0       0.00      0.00      0.00         2\n",
      "      138.0       0.00      0.00      0.00         2\n",
      "      139.0       0.00      0.00      0.00         2\n",
      "      140.0       0.00      0.00      0.00         2\n",
      "      141.0       0.00      0.00      0.00         3\n",
      "      142.0       0.00      0.00      0.00         4\n",
      "      143.0       0.00      0.00      0.00         2\n",
      "      144.0       0.00      0.00      0.00         4\n",
      "      145.0       0.00      0.00      0.00         1\n",
      "      146.0       0.00      0.00      0.00         1\n",
      "      147.0       0.00      0.00      0.00         1\n",
      "      148.0       0.00      0.00      0.00         1\n",
      "      150.0       0.00      0.00      0.00         4\n",
      "      151.0       0.00      0.00      0.00         3\n",
      "      152.0       0.00      0.00      0.00         2\n",
      "      153.0       0.00      0.00      0.00         1\n",
      "      154.0       0.00      0.00      0.00         1\n",
      "      155.0       0.00      0.00      0.00         2\n",
      "      156.0       0.00      0.00      0.00         1\n",
      "      158.0       0.00      0.00      0.00         2\n",
      "      160.0       0.00      0.00      0.00         2\n",
      "      161.0       0.00      0.00      0.00         1\n",
      "      162.0       0.00      0.00      0.00         1\n",
      "      163.0       0.00      0.00      0.00         2\n",
      "      164.0       0.00      0.00      0.00         2\n",
      "      166.0       0.00      0.00      0.00         1\n",
      "      167.0       0.00      0.00      0.00         1\n",
      "      168.0       0.00      0.00      0.00         3\n",
      "      170.0       0.00      0.00      0.00         3\n",
      "      171.0       0.00      0.00      0.00         1\n",
      "      172.0       0.00      0.00      0.00         2\n",
      "      173.0       0.00      0.00      0.00         2\n",
      "      174.0       0.00      0.00      0.00         2\n",
      "      175.0       0.00      0.00      0.00         1\n",
      "      177.0       0.00      0.00      0.00         1\n",
      "      178.0       0.00      0.00      0.00         5\n",
      "      179.0       0.00      0.00      0.00         2\n",
      "      180.0       0.00      0.00      0.00         2\n",
      "      181.0       0.00      0.00      0.00         2\n",
      "      182.0       0.00      0.00      0.00         3\n",
      "      183.0       0.00      0.00      0.00         1\n",
      "      184.0       0.00      0.00      0.00         1\n",
      "      185.0       0.00      0.00      0.00         3\n",
      "      186.0       0.00      0.00      0.00         1\n",
      "      187.0       0.00      0.00      0.00         1\n",
      "      189.0       0.00      0.00      0.00         1\n",
      "      190.0       0.00      0.00      0.00         2\n",
      "      191.0       0.00      0.00      0.00         2\n",
      "      192.0       0.00      0.00      0.00         1\n",
      "      195.0       0.00      0.00      0.00         1\n",
      "      196.0       0.00      0.00      0.00         2\n",
      "      197.0       0.00      0.00      0.00         2\n",
      "      198.0       0.00      0.00      0.00         3\n",
      "      199.0       0.00      0.00      0.00         1\n",
      "      200.0       0.01      0.50      0.02         6\n",
      "      201.0       0.00      0.00      0.00         1\n",
      "      202.0       0.00      0.00      0.00         4\n",
      "      206.0       0.00      0.00      0.00         2\n",
      "      208.0       0.00      0.00      0.00         1\n",
      "      209.0       0.00      0.00      0.00         1\n",
      "      210.0       0.00      0.00      0.00         1\n",
      "      212.0       0.00      0.00      0.00         1\n",
      "      214.0       0.00      0.00      0.00         3\n",
      "      215.0       0.00      0.00      0.00         1\n",
      "      216.0       0.00      0.00      0.00         1\n",
      "      217.0       0.00      0.00      0.00         2\n",
      "      219.0       0.00      0.00      0.00         2\n",
      "      220.0       0.00      0.00      0.00         4\n",
      "      221.0       0.00      0.00      0.00         1\n",
      "      222.0       0.00      0.00      0.00         1\n",
      "      225.0       0.00      0.00      0.00         2\n",
      "      229.0       0.00      0.00      0.00         1\n",
      "      230.0       0.00      0.00      0.00         2\n",
      "      232.0       0.00      0.00      0.00         2\n",
      "      233.0       0.00      0.00      0.00         3\n",
      "      235.0       0.00      0.00      0.00         2\n",
      "      236.0       0.00      0.00      0.00         1\n",
      "      237.0       0.00      0.00      0.00         2\n",
      "      241.0       0.00      0.00      0.00         1\n",
      "      242.0       0.00      0.00      0.00         3\n",
      "      243.0       0.00      0.00      0.00         2\n",
      "      244.0       0.00      0.00      0.00         1\n",
      "      245.0       0.00      0.00      0.00         2\n",
      "      246.0       0.00      0.00      0.00         2\n",
      "      248.0       0.00      0.00      0.00         3\n",
      "      249.0       0.00      0.00      0.00         1\n",
      "      252.0       0.00      0.00      0.00         3\n",
      "      253.0       0.00      0.00      0.00         1\n",
      "      257.0       0.00      0.00      0.00         2\n",
      "      258.0       0.00      0.00      0.00         3\n",
      "      259.0       0.00      0.00      0.00         3\n",
      "      261.0       0.00      0.00      0.00         1\n",
      "      262.0       0.00      0.00      0.00         2\n",
      "      263.0       0.00      0.00      0.00         2\n",
      "      264.0       0.00      0.00      0.00         1\n",
      "      265.0       0.00      0.00      0.00         3\n",
      "      268.0       0.00      0.00      0.00         2\n",
      "      270.0       0.00      0.00      0.00         2\n",
      "      272.0       0.00      0.00      0.00         2\n",
      "      273.0       0.00      0.00      0.00         1\n",
      "      274.0       0.00      0.00      0.00         1\n",
      "      275.0       0.00      0.00      0.00         4\n",
      "      276.0       0.00      0.00      0.00         1\n",
      "      277.0       0.00      0.00      0.00         2\n",
      "      279.0       0.00      0.00      0.00         1\n",
      "      280.0       0.00      0.00      0.00         1\n",
      "      281.0       0.00      0.00      0.00         4\n",
      "      283.0       0.00      0.00      0.00         2\n",
      "      288.0       0.00      0.00      0.00         1\n",
      "      292.0       0.00      0.00      0.00         2\n",
      "      293.0       0.00      0.00      0.00         1\n",
      "      295.0       0.00      0.00      0.00         1\n",
      "      296.0       0.00      0.00      0.00         1\n",
      "      297.0       0.00      0.00      0.00         1\n",
      "      302.0       0.00      0.00      0.00         1\n",
      "      303.0       0.00      0.00      0.00         1\n",
      "      306.0       0.00      0.00      0.00         1\n",
      "      308.0       0.00      0.00      0.00         1\n",
      "      310.0       0.00      0.00      0.00         3\n",
      "      311.0       0.00      0.00      0.00         1\n",
      "      317.0       0.00      0.00      0.00         1\n",
      "      321.0       0.00      0.00      0.00         1\n",
      "      332.0       0.00      0.00      0.00         1\n",
      "      336.0       0.00      0.00      0.00         1\n",
      "      341.0       0.00      0.00      0.00         1\n",
      "      346.0       0.00      0.00      0.00         1\n",
      "\n",
      "avg / total       0.00      0.02      0.00       442\n",
      "\n",
      "[[0 0 0 ... 0 0 0]\n",
      " [0 0 0 ... 0 0 0]\n",
      " [0 0 0 ... 0 0 0]\n",
      " ...\n",
      " [0 0 0 ... 0 0 0]\n",
      " [0 0 0 ... 0 0 0]\n",
      " [0 0 0 ... 0 0 0]]\n"
     ]
    },
    {
     "name": "stderr",
     "output_type": "stream",
     "text": [
      "/Users/ainurafifah/anaconda3/lib/python3.6/site-packages/sklearn/metrics/classification.py:1135: UndefinedMetricWarning: Precision and F-score are ill-defined and being set to 0.0 in labels with no predicted samples.\n",
      "  'precision', 'predicted', average, warn_for)\n"
     ]
    }
   ],
   "source": [
    "print(metrics.classification_report(expected, predicted))\n",
    "print(metrics.confusion_matrix(expected, predicted))"
   ]
  },
  {
   "cell_type": "code",
   "execution_count": null,
   "metadata": {},
   "outputs": [],
   "source": []
  }
 ],
 "metadata": {
  "kernelspec": {
   "display_name": "Python 3",
   "language": "python",
   "name": "python3"
  },
  "language_info": {
   "codemirror_mode": {
    "name": "ipython",
    "version": 3
   },
   "file_extension": ".py",
   "mimetype": "text/x-python",
   "name": "python",
   "nbconvert_exporter": "python",
   "pygments_lexer": "ipython3",
   "version": "3.6.4"
  }
 },
 "nbformat": 4,
 "nbformat_minor": 2
}
